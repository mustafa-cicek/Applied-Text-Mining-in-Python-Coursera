{
 "cells": [
  {
   "cell_type": "markdown",
   "metadata": {},
   "source": [
    "---\n",
    "\n",
    "_You are currently looking at **version 1.1** of this notebook. To download notebooks and datafiles, as well as get help on Jupyter notebooks in the Coursera platform, visit the [Jupyter Notebook FAQ](https://www.coursera.org/learn/python-text-mining/resources/d9pwm) course resource._\n",
    "\n",
    "---"
   ]
  },
  {
   "cell_type": "markdown",
   "metadata": {},
   "source": [
    "# Assignment 1\n",
    "\n",
    "In this assignment, you'll be working with messy medical data and using regex to extract relevant infromation from the data. \n",
    "\n",
    "Each line of the `dates.txt` file corresponds to a medical note. Each note has a date that needs to be extracted, but each date is encoded in one of many formats.\n",
    "\n",
    "The goal of this assignment is to correctly identify all of the different date variants encoded in this dataset and to properly normalize and sort the dates. \n",
    "\n",
    "Here is a list of some of the variants you might encounter in this dataset:\n",
    "* 04/20/2009; 04/20/09; 4/20/09; 4/3/09\n",
    "* Mar-20-2009; Mar 20, 2009; March 20, 2009;  Mar. 20, 2009; Mar 20 2009;\n",
    "* 20 Mar 2009; 20 March 2009; 20 Mar. 2009; 20 March, 2009\n",
    "* Mar 20th, 2009; Mar 21st, 2009; Mar 22nd, 2009\n",
    "* Feb 2009; Sep 2009; Oct 2010\n",
    "* 6/2008; 12/2009\n",
    "* 2009; 2010\n",
    "\n",
    "Once you have extracted these date patterns from the text, the next step is to sort them in ascending chronological order accoring to the following rules:\n",
    "* Assume all dates in xx/xx/xx format are mm/dd/yy\n",
    "* Assume all dates where year is encoded in only two digits are years from the 1900's (e.g. 1/5/89 is January 5th, 1989)\n",
    "* If the day is missing (e.g. 9/2009), assume it is the first day of the month (e.g. September 1, 2009).\n",
    "* If the month is missing (e.g. 2010), assume it is the first of January of that year (e.g. January 1, 2010).\n",
    "* Watch out for potential typos as this is a raw, real-life derived dataset.\n",
    "\n",
    "With these rules in mind, find the correct date in each note and return a pandas Series in chronological order of the original Series' indices.\n",
    "\n",
    "For example if the original series was this:\n",
    "\n",
    "    0    1999\n",
    "    1    2010\n",
    "    2    1978\n",
    "    3    2015\n",
    "    4    1985\n",
    "\n",
    "Your function should return this:\n",
    "\n",
    "    0    2\n",
    "    1    4\n",
    "    2    0\n",
    "    3    1\n",
    "    4    3\n",
    "\n",
    "Your score will be calculated using [Kendall's tau](https://en.wikipedia.org/wiki/Kendall_rank_correlation_coefficient), a correlation measure for ordinal data.\n",
    "\n",
    "*This function should return a Series of length 500 and dtype int.*"
   ]
  },
  {
   "cell_type": "code",
   "execution_count": 99,
   "metadata": {},
   "outputs": [
    {
     "data": {
      "text/plain": [
       "0           03/25/93 Total time of visit (in minutes):\\n\n",
       "1                         6/18/85 Primary Care Doctor:\\n\n",
       "2      sshe plans to move as of 7/8/71 In-Home Servic...\n",
       "3                  7 on 9/27/75 Audit C Score Current:\\n\n",
       "4      2/6/96 sleep studyPain Treatment Pain Level (N...\n",
       "5                      .Per 7/06/79 Movement D/O note:\\n\n",
       "6      4, 5/18/78 Patient's thoughts about current su...\n",
       "7      10/24/89 CPT Code: 90801 - Psychiatric Diagnos...\n",
       "8                           3/7/86 SOS-10 Total Score:\\n\n",
       "9               (4/10/71)Score-1Audit C Score Current:\\n\n",
       "10     (5/11/85) Crt-1.96, BUN-26; AST/ALT-16/22; WBC...\n",
       "11                         4/09/75 SOS-10 Total Score:\\n\n",
       "12     8/01/98 Communication with referring physician...\n",
       "13     1/26/72 Communication with referring physician...\n",
       "14     5/24/1990 CPT Code: 90792: With medical servic...\n",
       "15     1/25/2011 CPT Code: 90792: With medical servic...\n",
       "16           4/12/82 Total time of visit (in minutes):\\n\n",
       "17          1; 10/13/1976 Audit C Score, Highest/Date:\\n\n",
       "18                   4, 4/24/98 Relevant Drug History:\\n\n",
       "19     ) 59 yo unemployed w referred by Urgent Care f...\n",
       "20           7/21/98 Total time of visit (in minutes):\\n\n",
       "21                        10/21/79 SOS-10 Total Score:\\n\n",
       "22      3/03/90 CPT Code: 90792: With medical services\\n\n",
       "23      2/11/76 CPT Code: 90792: With medical services\\n\n",
       "24     07/25/1984 CPT Code: 90791: No medical services\\n\n",
       "25     4-13-82 Other Child Mental Health Outcomes Sca...\n",
       "26      9/22/89 CPT Code: 90792: With medical services\\n\n",
       "27        9/02/76 CPT Code: 90791: No medical services\\n\n",
       "28                                9/12/71 [report_end]\\n\n",
       "29     10/24/86 Communication with referring physicia...\n",
       "                             ...                        \n",
       "470    y1983 Clinic Hospital, first hospitalization, ...\n",
       "471    tProblems Urinary incontinence : mild urge inc...\n",
       "472    .2010 - wife; nightmares and angry outbursts; ...\n",
       "473         shx of TBI (1975) ISO MVA.Medical History:\\n\n",
       "474    sPatient reported losing three friends that pa...\n",
       "475                        TSH okay in 2015 Prior EKG:\\n\n",
       "476    1989 Family Psych History: Family History of S...\n",
       "477    oEnjoys animals, had a dog x 14 yrs who died i...\n",
       "478    eHistory of small right parietal subgaleal hem...\n",
       "479    sIn KEP Psychiatryfor therapy and medications ...\n",
       "480    1. Esophageal cancer, dx: 2013, on FOLFOX with...\n",
       "481                                        y1974 (all)\\n\n",
       "482    h/o restraining order by sister/mother in 1990...\n",
       "483    sTexas Medical Center; Oklahoma for 2 weeks; 1...\n",
       "484    Death of former partner in 2004 by overdose as...\n",
       "485    Was \"average\" student.  \"I didn't have too man...\n",
       "486    Contemplating jumping off building - 1973 - di...\n",
       "487    appendectomy s/p delivery 1992 Prior relevant ...\n",
       "488    tProblems renal cell cancer : s/p nephrectomy ...\n",
       "489        ran own business for 35 years, sold in 1985\\n\n",
       "490                                  Lab: B12 969 2007\\n\n",
       "491                                   )and 8mo in 2009\\n\n",
       "492    .Moved to USA in 1986. Suffered from malnutrit...\n",
       "493                                              r1978\\n\n",
       "494    . Went to Emerson, in Newfane Alaska. Started ...\n",
       "495    1979 Family Psych History: Family History of S...\n",
       "496    therapist and friend died in ~2006 Parental/Ca...\n",
       "497                         2008 partial thyroidectomy\\n\n",
       "498    sPt describes a history of sexual abuse as a c...\n",
       "499    . In 1980, patient was living in Naples and de...\n",
       "Length: 500, dtype: object"
      ]
     },
     "execution_count": 99,
     "metadata": {},
     "output_type": "execute_result"
    }
   ],
   "source": [
    "import pandas as pd\n",
    "\n",
    "doc = []\n",
    "with open('dates.txt') as file:\n",
    "    for line in file:\n",
    "        doc.append(line)\n",
    "\n",
    "df = pd.Series(doc)\n",
    "df\n"
   ]
  },
  {
   "cell_type": "code",
   "execution_count": 157,
   "metadata": {},
   "outputs": [
    {
     "data": {
      "text/plain": [
       "0        9\n",
       "1       84\n",
       "2        2\n",
       "3       53\n",
       "4       28\n",
       "5      474\n",
       "6      153\n",
       "      ... \n",
       "493    253\n",
       "494    231\n",
       "495    427\n",
       "496    141\n",
       "497    186\n",
       "498    161\n",
       "499    413\n",
       "Name: level_0, Length: 500, dtype: int64"
      ]
     },
     "execution_count": 157,
     "metadata": {},
     "output_type": "execute_result"
    }
   ],
   "source": [
    "def date_sorter():\n",
    "    import numpy as np\n",
    "    months={'Jan': '01', 'Feb':'02', 'Mar':'03', 'Apr':'04', 'May':'05', 'Jun':'06', 'Jul':'07', \n",
    "           'Aug':'08', 'Sep':'09', 'Oct':'10', 'Nov':'11', 'Dec':'12'}\n",
    "    \n",
    "    c1=df.str.extractall(r'(?P<month>\\d{1,2})[/-](?P<day>\\d{1,2})[/-](?P<year>\\d{2,4})')\n",
    "    c1['year']=c1['year'].apply(lambda x: '19'+ x if len(x) == 2 else x)\n",
    "    c1['month']=c1['month'].apply(lambda x: '0' + x if len(x)==1 else x)\n",
    "    c1['day']=c1['day'].apply(lambda x: '0' + x if len(x)==1 else x)\n",
    "\n",
    "    c2=df.str.extractall(r'(?P<month>(?:Jan|Feb|Mar|Apr|May|Jun|Jul|Aug|Sep|Oct|Nov|Dec))[a-z]*[.]?[- ](?P<day>\\d{1,2})[,]?[- ](?P<year>\\d{4})')\n",
    "    c2=c2.replace({'month':months})\n",
    "    \n",
    "    c3=df.str.extractall(r'(?P<day>\\d{1,2}) (?P<month>(?:Jan|Feb|Mar|Apr|May|Jun|Jul|Aug|Sep|Oct|Nov|Dec))[a-z]*[.,]? (?P<year>\\d{4})')\n",
    "    c3=c3.replace({'month':months})\n",
    "    \n",
    "    c4=df.str.extractall(r'(?P<month>[a-zA-Z]{3,})\\.?-? ?(?P<day>\\d\\d?)(th|nd|st)?,?-? ?(?P<year>\\d{4})')\n",
    "    c4=c4[['month', 'day', 'year']]\n",
    "    c4['month']=c4['month'].apply(lambda x: x[:3] if len(x) > 3 else x)\n",
    "    c4=c4.replace({'month':months})\n",
    "    c4['month']=c4['month'].apply(lambda x: '01' if x=='Age' else x)\n",
    "    c5=df.str.extractall(r'(?P<month>(?:Jan|Feb|Mar|Apr|May|Jun|Jul|Aug|Sep|Oct|Nov|Dec))[a-z]*[,]? (?P<year>\\d{4})')\n",
    "    c5=c5.replace({'month':months})\n",
    "    c5['day']='01'\n",
    "    \n",
    "    \n",
    "    c6=df.str.extractall(r'(?P<month>\\d{1,2})[/](?P<year>\\d{4})')\n",
    "    c6['day']='01'\n",
    "    c6=c6.replace({'month':months})\n",
    "\n",
    "    c7=df.str.extractall(r'(?P<year>\\d{4})+[^0-9]+')\n",
    "    c7['year']=c7['year'].apply(lambda x: x if x.startswith('19') or x.startswith('20') else 0)\n",
    "    c7=c7[c7['year']!=0]\n",
    "    c7['month']= '01'\n",
    "    c7['day']= '01'\n",
    "    \n",
    "    \n",
    "    c1=c1.reset_index()\n",
    "    c2=c2.reset_index()\n",
    "    c3=c3.reset_index()\n",
    "    c4=c4.reset_index()\n",
    "    c5=c5.reset_index()\n",
    "    c6=c6.reset_index()\n",
    "    c7=c7.reset_index()\n",
    "\n",
    "    \n",
    "    df1=pd.concat([c1,c2,c3,c4,c5,c6,c7]).drop_duplicates(subset='level_0', keep='first').reset_index(drop=True)   \n",
    "    \n",
    "    df1['month']=df1['month'].apply(lambda x: str(x))\n",
    "    df1['day']=df1['day'].apply(lambda x: str(x))\n",
    "    df1['day']=df1['day'].apply(lambda x: '0' + x if len(x)==1 else x)\n",
    "    df1['month']=df1['month'].apply(lambda x: '0' + x if len(x)==1 else x)\n",
    "    \n",
    "    df1['date']=df1['year']+df1['month']+df1['day']\n",
    "    df_sorted=df1.sort_values(by=['date'])\n",
    "    df_sorted=df_sorted.reset_index()\n",
    "    \n",
    "    return pd.Series(df_sorted['level_0'])\n",
    "date_sorter()"
   ]
  },
  {
   "cell_type": "markdown",
   "metadata": {
    "collapsed": true
   },
   "source": [
    "###### "
   ]
  },
  {
   "cell_type": "code",
   "execution_count": null,
   "metadata": {
    "collapsed": true
   },
   "outputs": [],
   "source": []
  },
  {
   "cell_type": "code",
   "execution_count": null,
   "metadata": {
    "collapsed": true
   },
   "outputs": [],
   "source": []
  }
 ],
 "metadata": {
  "coursera": {
   "course_slug": "python-text-mining",
   "graded_item_id": "LvcWI",
   "launcher_item_id": "krne9",
   "part_id": "Mkp1I"
  },
  "kernelspec": {
   "display_name": "Python 3",
   "language": "python",
   "name": "python3"
  },
  "language_info": {
   "codemirror_mode": {
    "name": "ipython",
    "version": 3
   },
   "file_extension": ".py",
   "mimetype": "text/x-python",
   "name": "python",
   "nbconvert_exporter": "python",
   "pygments_lexer": "ipython3",
   "version": "3.6.2"
  }
 },
 "nbformat": 4,
 "nbformat_minor": 2
}
